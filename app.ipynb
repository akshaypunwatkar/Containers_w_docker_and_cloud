{
 "cells": [
  {
   "cell_type": "code",
   "execution_count": 6,
   "metadata": {},
   "outputs": [
    {
     "data": {
      "image/png": "[encoded data removed]",
      "text/plain": [
       "<Figure size 432x288 with 1 Axes>"
      ]
     },
     "metadata": {
      "needs_background": "light"
     },
     "output_type": "display_data"
    },
    {
     "name": "stdout",
     "output_type": "stream",
     "text": [
      "['Ferrari']\n"
     ]
    }
   ],
   "source": [
    "from flask import Flask, request, jsonify\n",
    "from flask.logging import create_logger\n",
    "import logging\n",
    "\n",
    "import requests\n",
    "from io import BytesIO\n",
    "import numpy as np\n",
    "import matplotlib.pyplot as plt\n",
    "import joblib\n",
    "from sklearn.preprocessing import StandardScaler\n",
    "from skimage.feature import hog\n",
    "from PIL import Image, ImageFilter,ImageOps\n",
    "\n",
    "\n",
    "def predict(pth):\n",
    "    \n",
    "    response = requests.get(pth)\n",
    "    image = Image.open(BytesIO(response.content))\n",
    "    #image = Image.open(pth)\n",
    "\n",
    "    image = ImageOps.grayscale(image)\n",
    "    image = ImageOps.equalize(image)\n",
    "    image = np.asarray(image.resize([64,64]),dtype=\"int32\")\n",
    "    plt.imshow(image)\n",
    "    plt.show()\n",
    "    fd,hog_image = hog(image, orientations=8, pixels_per_cell=(16,16),\n",
    "                   cells_per_block=(4, 4),block_norm= 'L2',visualize=True)\n",
    "    \n",
    "    hog_img = np.array(fd).reshape(1,-1)\n",
    "    \n",
    "    sc = joblib.load(\"std_scaler.bin\")\n",
    "    scaled_img = sc.transform(hog_img)\n",
    "    \n",
    "    predict = clf.predict(scaled_img)\n",
    "    return predict\n",
    "\n",
    "if __name__ == \"__main__\":\n",
    "    clf = joblib.load(\"logo_classifier.joblib\")\n",
    "    #app.run(host='0.0.0.0', port=80, debug=True)\n",
    "    #path = easygui.fileopenbox()\n",
    "    url = \"https://i.pinimg.com/originals/f5/40/ca/f540ca3b29d055dcacdd44d1750ae8e9.jpg\"\n",
    "    print(predict(url))\n",
    "    "
   ]
  },
  {
   "cell_type": "code",
   "execution_count": null,
   "metadata": {},
   "outputs": [],
   "source": []
  },
  {
   "cell_type": "code",
   "execution_count": 6,
   "metadata": {},
   "outputs": [
    {
     "name": "stdout",
     "output_type": "stream",
     "text": [
      "Name: Pillow\n",
      "Version: 7.0.0\n",
      "Summary: Python Imaging Library (Fork)\n",
      "Home-page: https://python-pillow.org\n",
      "Author: Alex Clark (PIL Fork Author)\n",
      "Author-email: aclark@python-pillow.org\n",
      "License: HPND\n",
      "Location: /opt/anaconda3/lib/python3.7/site-packages\n",
      "Requires: \n",
      "Required-by: scikit-image, imageio, bokeh\n"
     ]
    }
   ],
   "source": [
    "!pip show Pillow"
   ]
  },
  {
   "cell_type": "code",
   "execution_count": null,
   "metadata": {},
   "outputs": [],
   "source": []
  }
 ],
 "metadata": {
  "kernelspec": {
   "display_name": "Python 3",
   "language": "python",
   "name": "python3"
  },
  "language_info": {
   "codemirror_mode": {
    "name": "ipython",
    "version": 3
   },
   "file_extension": ".py",
   "mimetype": "text/x-python",
   "name": "python",
   "nbconvert_exporter": "python",
   "pygments_lexer": "ipython3",
   "version": "3.7.6"
  }
 },
 "nbformat": 4,
 "nbformat_minor": 4
}
